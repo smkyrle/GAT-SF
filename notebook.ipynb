{
 "cells": [
  {
   "cell_type": "markdown",
   "id": "contrary-geneva",
   "metadata": {
    "tags": []
   },
   "source": [
    "# GAT-SF Notebook"
   ]
  },
  {
   "cell_type": "markdown",
   "id": "a102cb5e-1f87-40e3-b4c4-df4cc922ae90",
   "metadata": {},
   "source": [
    "Requirements:\n",
    "- torch==1.11.0\n",
    "- torch-scatter\n",
    "- torch-sparse\n",
    "- [torch-geometric](https://pytorch-geometric.readthedocs.io/en/latest/notes/installation.html)"
   ]
  },
  {
   "cell_type": "code",
   "execution_count": 1,
   "id": "absolute-possibility",
   "metadata": {
    "tags": []
   },
   "outputs": [],
   "source": [
    "from dataset import MolDataset\n",
    "import pandas as pd"
   ]
  },
  {
   "cell_type": "code",
   "execution_count": 2,
   "id": "0e1b8788-daa8-4e95-ac1d-1afa1bd9c1b2",
   "metadata": {},
   "outputs": [
    {
     "data": {
      "text/html": [
       "<div>\n",
       "<style scoped>\n",
       "    .dataframe tbody tr th:only-of-type {\n",
       "        vertical-align: middle;\n",
       "    }\n",
       "\n",
       "    .dataframe tbody tr th {\n",
       "        vertical-align: top;\n",
       "    }\n",
       "\n",
       "    .dataframe thead th {\n",
       "        text-align: right;\n",
       "    }\n",
       "</style>\n",
       "<table border=\"1\" class=\"dataframe\">\n",
       "  <thead>\n",
       "    <tr style=\"text-align: right;\">\n",
       "      <th></th>\n",
       "      <th>Pose name</th>\n",
       "      <th>label</th>\n",
       "      <th>Pose_no</th>\n",
       "      <th>Ligand_Path</th>\n",
       "      <th>Receptor_Path</th>\n",
       "    </tr>\n",
       "  </thead>\n",
       "  <tbody>\n",
       "    <tr>\n",
       "      <th>0</th>\n",
       "      <td>3uxd_decoy_04_ligand_02</td>\n",
       "      <td>0</td>\n",
       "      <td>2</td>\n",
       "      <td>3uxd/3uxd_decoy_4_ligand.pdbqt</td>\n",
       "      <td>3uxd/3uxd_receptor.pdbqt</td>\n",
       "    </tr>\n",
       "    <tr>\n",
       "      <th>1</th>\n",
       "      <td>3l3l_decoy_01_ligand_05</td>\n",
       "      <td>0</td>\n",
       "      <td>5</td>\n",
       "      <td>3l3l/3l3l_decoy_1_ligand.pdbqt</td>\n",
       "      <td>3l3l/3l3l_receptor.pdbqt</td>\n",
       "    </tr>\n",
       "    <tr>\n",
       "      <th>2</th>\n",
       "      <td>4k26_rdkit_ligand_03</td>\n",
       "      <td>0</td>\n",
       "      <td>3</td>\n",
       "      <td>4k26/4k26_ligand.pdbqt</td>\n",
       "      <td>4k26/4k26_receptor.pdbqt</td>\n",
       "    </tr>\n",
       "    <tr>\n",
       "      <th>3</th>\n",
       "      <td>1qy2_rdkit_ligand_04</td>\n",
       "      <td>1</td>\n",
       "      <td>4</td>\n",
       "      <td>1qy2/1qy2_ligand.pdbqt</td>\n",
       "      <td>1qy2/1qy2_receptor.pdbqt</td>\n",
       "    </tr>\n",
       "    <tr>\n",
       "      <th>4</th>\n",
       "      <td>6hp9_rdkit_ligand_05</td>\n",
       "      <td>0</td>\n",
       "      <td>5</td>\n",
       "      <td>6hp9/6hp9_ligand.pdbqt</td>\n",
       "      <td>6hp9/6hp9_receptor.pdbqt</td>\n",
       "    </tr>\n",
       "    <tr>\n",
       "      <th>5</th>\n",
       "      <td>6p83_decoy_05_ligand_02</td>\n",
       "      <td>0</td>\n",
       "      <td>2</td>\n",
       "      <td>6p83/6p83_decoy_5_ligand.pdbqt</td>\n",
       "      <td>6p83/6p83_receptor.pdbqt</td>\n",
       "    </tr>\n",
       "    <tr>\n",
       "      <th>6</th>\n",
       "      <td>1zgi_decoy_02_ligand_04</td>\n",
       "      <td>0</td>\n",
       "      <td>4</td>\n",
       "      <td>1zgi/1zgi_decoy_2_ligand.pdbqt</td>\n",
       "      <td>1zgi/1zgi_receptor.pdbqt</td>\n",
       "    </tr>\n",
       "    <tr>\n",
       "      <th>7</th>\n",
       "      <td>3ikd_decoy_09_ligand_04</td>\n",
       "      <td>0</td>\n",
       "      <td>4</td>\n",
       "      <td>3ikd/3ikd_decoy_9_ligand.pdbqt</td>\n",
       "      <td>3ikd/3ikd_receptor.pdbqt</td>\n",
       "    </tr>\n",
       "    <tr>\n",
       "      <th>8</th>\n",
       "      <td>5uv1_rdkit_ligand_01</td>\n",
       "      <td>1</td>\n",
       "      <td>1</td>\n",
       "      <td>5uv1/5uv1_ligand.pdbqt</td>\n",
       "      <td>5uv1/5uv1_receptor.pdbqt</td>\n",
       "    </tr>\n",
       "    <tr>\n",
       "      <th>9</th>\n",
       "      <td>3bu1_decoy_05_ligand_02</td>\n",
       "      <td>0</td>\n",
       "      <td>2</td>\n",
       "      <td>3bu1/3bu1_decoy_5_ligand.pdbqt</td>\n",
       "      <td>3bu1/3bu1_receptor.pdbqt</td>\n",
       "    </tr>\n",
       "  </tbody>\n",
       "</table>\n",
       "</div>"
      ],
      "text/plain": [
       "                 Pose name  label  Pose_no                     Ligand_Path  \\\n",
       "0  3uxd_decoy_04_ligand_02      0        2  3uxd/3uxd_decoy_4_ligand.pdbqt   \n",
       "1  3l3l_decoy_01_ligand_05      0        5  3l3l/3l3l_decoy_1_ligand.pdbqt   \n",
       "2     4k26_rdkit_ligand_03      0        3          4k26/4k26_ligand.pdbqt   \n",
       "3     1qy2_rdkit_ligand_04      1        4          1qy2/1qy2_ligand.pdbqt   \n",
       "4     6hp9_rdkit_ligand_05      0        5          6hp9/6hp9_ligand.pdbqt   \n",
       "5  6p83_decoy_05_ligand_02      0        2  6p83/6p83_decoy_5_ligand.pdbqt   \n",
       "6  1zgi_decoy_02_ligand_04      0        4  1zgi/1zgi_decoy_2_ligand.pdbqt   \n",
       "7  3ikd_decoy_09_ligand_04      0        4  3ikd/3ikd_decoy_9_ligand.pdbqt   \n",
       "8     5uv1_rdkit_ligand_01      1        1          5uv1/5uv1_ligand.pdbqt   \n",
       "9  3bu1_decoy_05_ligand_02      0        2  3bu1/3bu1_decoy_5_ligand.pdbqt   \n",
       "\n",
       "              Receptor_Path  \n",
       "0  3uxd/3uxd_receptor.pdbqt  \n",
       "1  3l3l/3l3l_receptor.pdbqt  \n",
       "2  4k26/4k26_receptor.pdbqt  \n",
       "3  1qy2/1qy2_receptor.pdbqt  \n",
       "4  6hp9/6hp9_receptor.pdbqt  \n",
       "5  6p83/6p83_receptor.pdbqt  \n",
       "6  1zgi/1zgi_receptor.pdbqt  \n",
       "7  3ikd/3ikd_receptor.pdbqt  \n",
       "8  5uv1/5uv1_receptor.pdbqt  \n",
       "9  3bu1/3bu1_receptor.pdbqt  "
      ]
     },
     "execution_count": 2,
     "metadata": {},
     "output_type": "execute_result"
    }
   ],
   "source": [
    "data = 'example_data/example_data.csv'\n",
    "data = pd.read_csv(data)\n",
    "data"
   ]
  },
  {
   "cell_type": "code",
   "execution_count": 3,
   "id": "1e1f18d6-a381-4ab0-a459-c00f76fbdc39",
   "metadata": {},
   "outputs": [],
   "source": [
    "data['Dataset'] = data.apply(lambda x: MolDataset(\n",
    "                                            receptor=f'example_data/{x.Receptor_Path}',\n",
    "                                            ligands=f'example_data/{x.Ligand_Path}',\n",
    "                                            labels=[x.label],\n",
    "                                            threads=1,\n",
    "                                            dataset_dir='example_data/graphs',\n",
    "                                            poses=[x.Pose_no],\n",
    "                                            idx=[x.name]\n",
    "                                        ).process(), \n",
    "                                    axis=1\n",
    "                                )"
   ]
  },
  {
   "cell_type": "code",
   "execution_count": 6,
   "id": "0ded6ab1-cde9-4dab-bc58-4970d0c9fead",
   "metadata": {},
   "outputs": [
    {
     "data": {
      "text/plain": [
       "Mol(x=[83, 16], y=0.0, covalent_index=[2, 158], distance_index=[2, 320], distance_attr=[320, 1], edge_index=[2, 478], ligand_index=76, edge_attr=[478, 1])"
      ]
     },
     "execution_count": 6,
     "metadata": {},
     "output_type": "execute_result"
    }
   ],
   "source": [
    "dataset = MolDataset(dataset_dir='example_data/graphs')\n",
    "dataset[1]"
   ]
  },
  {
   "cell_type": "code",
   "execution_count": null,
   "id": "a29bee20-846f-4699-8342-5bc67cde3e92",
   "metadata": {},
   "outputs": [],
   "source": []
  }
 ],
 "metadata": {
  "kernelspec": {
   "display_name": "graphML",
   "language": "python",
   "name": "graphml"
  },
  "language_info": {
   "codemirror_mode": {
    "name": "ipython",
    "version": 3
   },
   "file_extension": ".py",
   "mimetype": "text/x-python",
   "name": "python",
   "nbconvert_exporter": "python",
   "pygments_lexer": "ipython3",
   "version": "3.7.12"
  }
 },
 "nbformat": 4,
 "nbformat_minor": 5
}
